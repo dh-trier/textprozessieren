{
 "cells": [
  {
   "cell_type": "markdown",
   "id": "3016ea66",
   "metadata": {
    "slideshow": {
     "slide_type": "slide"
    }
   },
   "source": [
    "# RegEx: finditer() und match objects"
   ]
  },
  {
   "cell_type": "markdown",
   "id": "222a61de",
   "metadata": {
    "slideshow": {
     "slide_type": "slide"
    }
   },
   "source": [
    "Siehe auch die ersten Informationen und die Übung zu Regular Expressions. \n",
    "\n",
    "Die Funktion finditer() hat viele Anwendungen bei der Suche in Strings. Ein Beispiel dafür ist die Berechnung der Länge von Absätzen, wie im Folgenden gezeigt. Eine KWIC-Ansicht (\"Keywords in Context\") wäre aber eine andere naheliegende Anwendungsmöglichkeit. \n",
    "\n",
    "Unser Schwerpunkt zu finditer() liegt hier darauf, mit den resultierenden match objects umzugehen. "
   ]
  },
  {
   "cell_type": "markdown",
   "id": "cc8961b8",
   "metadata": {
    "slideshow": {
     "slide_type": "slide"
    }
   },
   "source": [
    "**KWIC-Ansicht in TXM (https://textometrie.fr)**\n",
    "\n",
    "![](txm-beccaria.png)"
   ]
  },
  {
   "cell_type": "markdown",
   "id": "a1284576",
   "metadata": {
    "slideshow": {
     "slide_type": "slide"
    }
   },
   "source": [
    "## Beispielaufgabe: Länge von Absätzen\n",
    "\n",
    "Wir haben ein HTML-Dokument, in dem mehrere Absätze vorkommen, die mit dem Element `p` ausgezeichnet sind.\n",
    "\n",
    "Wir möchten für jeden der Absätze bestimmen, welche Länge, in Zeichen und in Wörtern, er hat. "
   ]
  },
  {
   "cell_type": "markdown",
   "id": "0a99122f",
   "metadata": {
    "slideshow": {
     "slide_type": "slide"
    }
   },
   "source": [
    "## Struktur des Lösungsansatzes\n",
    "\n",
    "1. Libraries importieren (os, re, pandas)\n",
    "2. HTML-Datei als String einlesen\n",
    "3. Absätze herausfiltern\n",
    "4. Länge der Absätze bestimmen\n",
    "5. Informationen einsammeln\n",
    "6. Informationen abspeichern\n",
    "7. Alles über main() koordiniert"
   ]
  },
  {
   "cell_type": "markdown",
   "id": "c32b92c2",
   "metadata": {
    "slideshow": {
     "slide_type": "slide"
    }
   },
   "source": [
    "## Importe"
   ]
  },
  {
   "cell_type": "code",
   "execution_count": 148,
   "id": "5ae317ea",
   "metadata": {
    "slideshow": {
     "slide_type": "slide"
    }
   },
   "outputs": [],
   "source": [
    "from os.path import join\n",
    "import re\n",
    "import pandas as pd"
   ]
  },
  {
   "cell_type": "markdown",
   "id": "788c3649",
   "metadata": {
    "slideshow": {
     "slide_type": "slide"
    }
   },
   "source": [
    "## Eine HTML-Datei laden"
   ]
  },
  {
   "cell_type": "code",
   "execution_count": 149,
   "id": "b59141b8",
   "metadata": {
    "slideshow": {
     "slide_type": "slide"
    }
   },
   "outputs": [],
   "source": [
    "def read_htmlfile(htmlfile): \n",
    "    \"\"\"\n",
    "    Input: HTML-Datei. \n",
    "    Output: Inhalt der HTML-Datei als String. \n",
    "    \"\"\"\n",
    "    with open(htmlfile, \"r\", encoding=\"utf8\") as infile: \n",
    "        htmlstr = infile.read()\n",
    "    #print(htmlstr[0:50])\n",
    "    return htmlstr\n",
    "\n",
    "#main(htmlfile) # [Steht hier nur, um zum Testen von hier aus main() ausführen zu können!]"
   ]
  },
  {
   "cell_type": "markdown",
   "id": "af911722",
   "metadata": {
    "slideshow": {
     "slide_type": "slide"
    }
   },
   "source": [
    "## Die Absätze herausfiltern\n",
    "\n",
    "Das machen wir hier mit `finditer()`, das uns einen Iterator von match objects zurückgibt. \n",
    "\n",
    "Die Absätze zeichnen sich dadurch aus, dass sie die Struktur `<p>...</p>` haben. Danach können wir suchen. "
   ]
  },
  {
   "cell_type": "code",
   "execution_count": 161,
   "id": "549368a6",
   "metadata": {
    "slideshow": {
     "slide_type": "slide"
    }
   },
   "outputs": [
    {
     "name": "stdout",
     "output_type": "stream",
     "text": [
      "   chars1  chars2  words\n",
      "1     230     231     29\n",
      "2     177     178     22\n",
      "3     344     346     47\n",
      "4     630     635     69\n",
      "5     393     393     51\n"
     ]
    }
   ],
   "source": [
    "def filter_html(htmlstr): \n",
    "    \"\"\"\n",
    "    Funktion: Alle Absätze im Dokument einsammeln, alles andere ignorieren. \n",
    "    Input: HTML als String\n",
    "    Output: Liste von Absätzen\n",
    "    \"\"\"\n",
    "    paras = re.finditer(\"<p>.*?</p>\", htmlstr)\n",
    "    #for para in paras:\n",
    "    #    print(para)\n",
    "    return paras\n",
    "\n",
    "main(htmlfile)"
   ]
  },
  {
   "cell_type": "markdown",
   "id": "73212518",
   "metadata": {
    "slideshow": {
     "slide_type": "slide"
    }
   },
   "source": [
    "## Länge der Absätze ermitteln\n",
    "\n",
    "Weil unsere Absätze in `paras` als \"match objects\" vorliegen, können wir über die Liste der Absätze iterieren und jeweils auf das match object zugreifen. \n",
    "\n",
    "Die Teile des match objects sind als Methoden verfügbar: `.start()` (Anfangsposition des Absatzes im HTML-Dokument), `.end()` (Endposition), `.span()` (Anfang und Ende als Tupel) und `.group()` (der Textinhalt). \n",
    "\n",
    "Wir können entweder die Länge des Strings in `group` ohne den Markup oder den Offset der Span ermitteln, um die Länge der Absätze in Zeichen zu erhalten. Wir vergleichen hier mal das Ergebnis beider Methoden."
   ]
  },
  {
   "cell_type": "code",
   "execution_count": 151,
   "id": "b4f3bfa2",
   "metadata": {
    "slideshow": {
     "slide_type": "slide"
    }
   },
   "outputs": [],
   "source": [
    "def get_paraslens(paras): \n",
    "    \"\"\"\n",
    "    Den Textinhalt isolieren und die Länge in chars ermitteln. \n",
    "    Input: Liste von match objects (Absätze)\n",
    "    Output: Dict mit ints (Länge der Absätze)\n",
    "    \"\"\"\n",
    "    counter = 0\n",
    "    paraslens = {}\n",
    "    for para in paras: \n",
    "        counter +=1\n",
    "        # TEST\n",
    "        #print(para.span(), para.start(), para.end())\n",
    "        #print(para.group())\n",
    "        #print(re.sub(\"[<p>|</p>]\", \"\", para.group()))\n",
    "\n",
    "        # Methode 1\n",
    "        paratext = re.sub(\"[<p>|</p>]\", \"\", para.group())\n",
    "        #print(paratext)\n",
    "        chars1 = len(paratext)\n",
    "\n",
    "        # Methode 2\n",
    "        chars2 = para.end() - para.start() - 7 #len(\"<p></p>\")=7\n",
    "        \n",
    "        # Methode 3: Länge in Wörtern \n",
    "        words = len([word for word in re.split(\"\\W+\", paratext) if word])\n",
    "        #print(chars1, chars2, words)\n",
    "        \n",
    "        # Werte für den para dem dict hinzufügen\n",
    "        paraslens[counter] = (chars1, chars2, words)\n",
    "    return paraslens\n",
    "\n",
    "#main(htmlfile)"
   ]
  },
  {
   "cell_type": "markdown",
   "id": "834e1216",
   "metadata": {
    "slideshow": {
     "slide_type": "slide"
    }
   },
   "source": [
    "## Dict als DataFrame abspeichern\n",
    "\n",
    "Oft ist es nützlich, die Inhalte eines Dicts auch abzuspeichern. Dafür bietet sich ein pandas DataFrame an. "
   ]
  },
  {
   "cell_type": "code",
   "execution_count": 152,
   "id": "0a1228a2",
   "metadata": {
    "slideshow": {
     "slide_type": "slide"
    }
   },
   "outputs": [],
   "source": [
    "def save_dict_as_df(paraslens): \n",
    "    \"\"\"\n",
    "    Dictionary in DataFrame umwandeln und als CSV-Datei abspeichern.\n",
    "    https://pandas.pydata.org/docs/reference/api/pandas.DataFrame.from_dict.html\n",
    "    \"\"\"\n",
    "    columns = [\"chars1\", \"chars2\", \"words\"]\n",
    "    paraslens_df = pd.DataFrame.from_dict(paraslens, orient=\"index\", columns=columns)\n",
    "    #print(paraslens_df.head())\n",
    "    with open(\"paraslens.csv\", \"w\", encoding=\"utf8\") as outfile: \n",
    "        paraslens_df.to_csv(outfile, sep=\";\")\n",
    "\n",
    "#main(htmlfile)"
   ]
  },
  {
   "cell_type": "markdown",
   "id": "93201c4f",
   "metadata": {
    "slideshow": {
     "slide_type": "slide"
    }
   },
   "source": [
    "Um zu prüfen, dass unsere CSV Datei (a) da ist und (b) die richtigen Inhalte enhält, können wir die Datei entweder außerhalb des Codes öffnen oder vom Skript aus inspizieren. "
   ]
  },
  {
   "cell_type": "markdown",
   "id": "b878898f",
   "metadata": {
    "slideshow": {
     "slide_type": "slide"
    }
   },
   "source": [
    "**CSV-Datei in LibreOffice Calc geöffnet**\n",
    "\n",
    "<img src=\"calcsheet.png\" width=\"300\" align=\"left\"/>"
   ]
  },
  {
   "cell_type": "code",
   "execution_count": 157,
   "id": "cb976e7d",
   "metadata": {},
   "outputs": [],
   "source": [
    "def check_csv(): \n",
    "    with open(\"paraslens.csv\", \"r\", encoding=\"utf8\") as infile: \n",
    "        csv = pd.read_csv(infile, sep=\";\", index_col=0)\n",
    "        #print(csv.head())\n",
    "\n",
    "#main(htmlfile)"
   ]
  },
  {
   "cell_type": "markdown",
   "id": "ef97c3ae",
   "metadata": {
    "slideshow": {
     "slide_type": "slide"
    }
   },
   "source": [
    "## Koordination mit main()"
   ]
  },
  {
   "cell_type": "code",
   "execution_count": null,
   "id": "6863c826",
   "metadata": {
    "slideshow": {
     "slide_type": "slide"
    }
   },
   "outputs": [],
   "source": [
    "htmlfile = join(\"..\", \"data\", \"dnb.html\")    # Einziger Parameter: Dateiname\n",
    "\n",
    "def main(htmlfile): \n",
    "    htmlstr = read_htmlfile(htmlfile)        # HTML-Datei einlesen\n",
    "    paras = filter_html(htmlstr)             # Absätze herausfiltern\n",
    "    paraslens = get_paraslens(paras)         # Länge der Absätze ermitteln\n",
    "    save_dict_as_df(paraslens)               # Als df abspeichern\n",
    "    check_csv()\n",
    "\n",
    "main(htmlfile)"
   ]
  },
  {
   "cell_type": "markdown",
   "id": "4c8b275a",
   "metadata": {
    "slideshow": {
     "slide_type": "slide"
    }
   },
   "source": [
    "## Erweiterungen\n",
    "\n",
    "* Wie müsste man das Skript erweitern, damit man wahlweise die Länge der Absätze oder die Länge der Überschriften ermitteln kann, indem man in \"main\" einen Parameter setzt.  "
   ]
  }
 ],
 "metadata": {
  "celltoolbar": "Slideshow",
  "kernelspec": {
   "display_name": "Python 3 (ipykernel)",
   "language": "python",
   "name": "python3"
  },
  "language_info": {
   "codemirror_mode": {
    "name": "ipython",
    "version": 3
   },
   "file_extension": ".py",
   "mimetype": "text/x-python",
   "name": "python",
   "nbconvert_exporter": "python",
   "pygments_lexer": "ipython3",
   "version": "3.9.7"
  }
 },
 "nbformat": 4,
 "nbformat_minor": 5
}
