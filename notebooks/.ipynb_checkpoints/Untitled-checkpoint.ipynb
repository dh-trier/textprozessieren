{
 "cells": [
  {
   "cell_type": "markdown",
   "id": "117330e9",
   "metadata": {},
   "source": [
    "# Mehr zu pandas für DataFrames"
   ]
  },
  {
   "cell_type": "markdown",
   "id": "5ed3fd6d",
   "metadata": {},
   "source": [
    "## Einleitung\n",
    "\n",
    "Häufig haben wir es in den Digital Humanities mit Daten in einem tabellarischen Format, bspw. in Form einer CSV-Datei, zu tun. Oft sind das Metadaten oder auch Ergebnisse von Berechnungen. \n",
    "\n",
    "Solche Tabellen lassen sich in Python sehr gut mit pandas als DataFrame öffnen, analysieren und visualisieren. Das probieren wir hier im Sinne einer vertiefenden Einführung in DataFrames mit einem realen Beispieldatensatz vom 'Index of DH Conferences' aus. "
   ]
  },
  {
   "cell_type": "markdown",
   "id": "329be7d0",
   "metadata": {},
   "source": [
    "## Importe"
   ]
  },
  {
   "cell_type": "code",
   "execution_count": null,
   "id": "95b3caae",
   "metadata": {},
   "outputs": [],
   "source": [
    "import pandas as pd\n",
    "from os.path import join"
   ]
  },
  {
   "cell_type": "markdown",
   "id": "9c3770f2",
   "metadata": {},
   "source": [
    "## Eine CSV-Datei einlesen\n",
    "\n",
    "- Öffnen der Datei mit `with open`\n",
    "- Einlesen als DataFrame mit `read_csv` (Parameter: `sep` für Separator und `index_col` für die Spalte, die als Index verwendet werden soll)\n",
    "- Weitere Infos zu den Parametern: https://pandas.pydata.org/docs/reference/api/pandas.read_csv.html"
   ]
  },
  {
   "cell_type": "code",
   "execution_count": null,
   "id": "52baf797",
   "metadata": {},
   "outputs": [],
   "source": [
    "csvfile = join(\"..\", \"data\", \"idhc_conferences.csv\")\n",
    "\n",
    "def read_csvfile(csvfile): \n",
    "    with open(csvfile, \"r\", encoding=\"utf8\") as infile: \n",
    "        data = pd.read_csv(infile, sep=\",\", index_col=0)\n",
    "    return data\n",
    "\n",
    "data = read_csvfile(csvfile)"
   ]
  },
  {
   "cell_type": "markdown",
   "id": "3c92d542",
   "metadata": {},
   "source": [
    "## Einen Eindruck von Umfang und Inhalt bekommen\n",
    "\n",
    "- Größe der Tabelle mit `.shape`\n",
    "- Liste der Spaltentitel mit `.columns`\n",
    "- Index mit `.index`\n",
    "- Anfang der Tabelle mit `.head()`\n",
    "- Datentypen der Spalten mit `.dtypes`\n"
   ]
  },
  {
   "cell_type": "code",
   "execution_count": null,
   "id": "52672f33",
   "metadata": {},
   "outputs": [],
   "source": [
    "print(\"shape\", data.shape)\n",
    "print(\"columns\", list(data.columns))\n",
    "print(\"index\", list(data.index[0:50]))\n",
    "#print(data.head())\n",
    "#print(data.dtypes)"
   ]
  },
  {
   "cell_type": "markdown",
   "id": "c0f168e2",
   "metadata": {},
   "source": [
    "## Teile der Tabelle auswählen\n",
    "\n",
    "- Slicing nach Index-Positionen mit `iloc`\n",
    "- Slicing mit Labels mit `loc`\n"
   ]
  },
  {
   "cell_type": "code",
   "execution_count": null,
   "id": "04dee8c0",
   "metadata": {},
   "outputs": [],
   "source": [
    "def select_from_data(data): \n",
    "    # mit iloc\n",
    "    selected = data.iloc[0:3,0:3] # [Zeilen,Spalten]\n",
    "    selected = data.iloc[15:20,5:8] \n",
    "    selected = data.iloc[100:105,:] \n",
    "    selected = data.iloc[:,3:5] \n",
    "    selected = data.loc[:,\"city\"]\n",
    "    selected = data.loc[112, \"city\"] # Index=int!\n",
    "    selected = data.loc[[48,112], \"city\"] # Liste!\n",
    "    selected = data.loc[[1,2,3,4], [\"start_date\", \"end_date\"]] # Liste!\n",
    "    return selected\n",
    "\n",
    "selected = select_from_data(data)\n",
    "print(type(selected))\n",
    "print(selected.shape)\n",
    "print(selected)"
   ]
  },
  {
   "cell_type": "markdown",
   "id": "00913ab9",
   "metadata": {},
   "source": [
    "## Die Tabelle nach bestimmten Kriterien filtern\n",
    "\n",
    "- Bestimmte Zeilen oder Spalten löschen mit `.drop()`\n",
    "- Zeilen löschen, wenn eine Zelle einen bestimmten Wert hat"
   ]
  },
  {
   "cell_type": "code",
   "execution_count": null,
   "id": "07fcbfb2",
   "metadata": {},
   "outputs": [],
   "source": [
    "# Zeilen, die in der Spalte \"city\" den Wert \"London\" haben\n",
    "filtered = data[data[\"city\"] == \"London\"]\n",
    "\n",
    "# Zwei Kriterien: Stadt (string) und Jahr (int)\n",
    "#filtered = data[(data[\"city\"] == \"Berlin\") & (data[\"year\"] >= 1995)]\n",
    "\n",
    "print(filtered.shape) # Zeilen,Spalten\n",
    "print(list(filtered.loc[:,\"year\"])) # Welche Jahre, als Liste\n",
    "#print(filtered.head())\n"
   ]
  },
  {
   "cell_type": "markdown",
   "id": "301508c0",
   "metadata": {},
   "source": [
    "## Berechnungen auf der Tabelle ausführen\n",
    "\n",
    "Dafür ist es oft nützlich, numpy zu verwenden. \n",
    "\n",
    "- Mittelwert, Median, Standardabweichung einer Zeile oder Spalte berechnen\n",
    "- Andere Berechnung auf der Grundlage von zwei Zellen pro Zeile\n",
    "- Ergebnis als neue Spalte zum DataFrame hinzufügen\n",
    "- Hier am Beispiel der Konferenzdaten, daher siehe auch: https://pandas.pydata.org/docs/reference/api/pandas.to_datetime.html"
   ]
  },
  {
   "cell_type": "code",
   "execution_count": null,
   "id": "9b60b0cb",
   "metadata": {},
   "outputs": [],
   "source": [
    "import numpy as np\n",
    "\n",
    "# Median / Mittelwert der Konferenzjahre\n",
    "#result = np.median(data.loc[:,\"year\"])\n",
    "result = np.mean(data.loc[:,\"year\"])\n",
    "#print(result)\n",
    "\n",
    "# Wie viele Konferenzen gab es denn pro Jahr? Mit Sortierung\n",
    "yearcounts = data[\"year\"].value_counts()\n",
    "#print(type(yearcounts))\n",
    "yearcounts.sort_values(inplace=True, ascending=False)\n",
    "yearcounts.sort_index(inplace=True, ascending=False)\n",
    "#print(yearcounts)\n",
    "\n",
    "# Mittlere Dauer der Konferenzen in Tagen\n",
    "filtered = data.loc[:,[\"start_date\", \"end_date\"]]\n",
    "filtered.dropna(inplace=True) # Unvollständige Einträge löschen\n",
    "#print(filtered.head())\n",
    "duration = pd.to_datetime(data[\"end_date\"], errors=\"ignore\") - pd.to_datetime(data[\"start_date\"], errors=\"ignore\")\n",
    "print(duration)\n",
    "print(sorted(list(duration.dt.days)))\n",
    "\n",
    "# Dauer in Tagen der Tabelle hinzufügen\n",
    "filtered[\"duration\"] = duration.dt.days\n",
    "#print(filtered.head())\n",
    "\n",
    "\n"
   ]
  },
  {
   "cell_type": "markdown",
   "id": "71673964",
   "metadata": {},
   "source": [
    "## Einen DataFrame abspeichern\n",
    "\n",
    "Den eben erstellen Dataframe mit den Konferenzdauern wollen wir jetzt abspeichern. \n",
    "\n",
    "- eine neue Datei anlegen mit `with open()`\n",
    "- Einen DataFrame als CSV herauschreiben mit `.to_csv()`"
   ]
  },
  {
   "cell_type": "code",
   "execution_count": null,
   "id": "65a5f0d7",
   "metadata": {},
   "outputs": [],
   "source": [
    "def save_dataframe(filtered): \n",
    "    with open(\"meinetabelle.csv\", \"w\", encoding=\"utf8\") as outfile: \n",
    "        filtered.to_csv(outfile, sep=\";\")\n",
    "\n",
    "save_dataframe(filtered)"
   ]
  },
  {
   "cell_type": "markdown",
   "id": "1297f41a",
   "metadata": {},
   "source": [
    "## Weitere Themen\n",
    "\n",
    "- Informationen aus einem DataFrame visualisieren (direkt in pandas mit `.plot()` oder beispielsweise mit der Library seaborn). \n",
    "- Einen DataFrame nach einem bestimmten Kriterium in mehrere Teile aufteilen mit `.groupby`. \n",
    "- Mehrere DataFrames miteinander verbinden mit `merge`, `concat` und/oder `join`. \n",
    "- Einen DataFrame aus mehreren Listen (mit `dict(zip[])`), aus einem Dictionary (mit `from_dict`) oder aus mehreren `Series` erstellen. "
   ]
  },
  {
   "cell_type": "code",
   "execution_count": null,
   "id": "af85ad12",
   "metadata": {},
   "outputs": [],
   "source": []
  }
 ],
 "metadata": {
  "kernelspec": {
   "display_name": "Python 3 (ipykernel)",
   "language": "python",
   "name": "python3"
  },
  "language_info": {
   "codemirror_mode": {
    "name": "ipython",
    "version": 3
   },
   "file_extension": ".py",
   "mimetype": "text/x-python",
   "name": "python",
   "nbconvert_exporter": "python",
   "pygments_lexer": "ipython3",
   "version": "3.9.7"
  }
 },
 "nbformat": 4,
 "nbformat_minor": 5
}
