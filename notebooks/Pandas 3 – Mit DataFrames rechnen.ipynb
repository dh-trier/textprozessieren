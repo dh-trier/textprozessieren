{
 "cells": [
  {
   "cell_type": "markdown",
   "id": "d2f9d0f6",
   "metadata": {},
   "source": [
    "# Pandas 3 – Mit DataFrames rechnen\n",
    "\n",
    "Mit DataFrames kann man nicht nur Metadaten diverser Datentypen bearbeiten, filtern und sortieren, sie eignen sich inbesondere auch sehr gut, um Berechnungen auf größeren Datenmengen einfach und effizient durchzuführen. Darum geht es in diesem Input. \n",
    "\n",
    "Als bekannt vorausgesetzt wird hier: DataFrames aus CSV einlesen, DataFrames aus Listen erstellen, DataFrames sortieren, slicen und filtern, DataFrames abspeichern (siehe Pandas 2). \n",
    "\n",
    "Neu hier ist: Berechnungen auf mehreren ganzen Spalten; Kombination von numpy mit DataFrames; Visualisierung von DataFrames.  "
   ]
  },
  {
   "cell_type": "markdown",
   "id": "6fb26a40",
   "metadata": {},
   "source": [
    "## Importe"
   ]
  },
  {
   "cell_type": "code",
   "execution_count": 23,
   "id": "4da95cb7",
   "metadata": {},
   "outputs": [],
   "source": [
    "from sklearn.feature_extraction.text import CountVectorizer\n",
    "import glob\n",
    "from os.path import join\n",
    "import os\n",
    "import pandas as pd\n",
    "import numpy as np"
   ]
  },
  {
   "cell_type": "markdown",
   "id": "0bd2e00a",
   "metadata": {},
   "source": [
    "## Daten: Worthäufigkeiten\n",
    "\n",
    "Als Beispieldatensatz erstellen wir uns eine Worthäufigkeitstabelle aus einem Textkorpus. \n",
    "\n",
    "Das geht am Einfachsten mit der Methode `Count.Vektorizer` aus dem Paket sklearn. Siehe: https://scikit-learn.org/stable/modules/generated/sklearn.feature_extraction.text.CountVectorizer.html"
   ]
  },
  {
   "cell_type": "code",
   "execution_count": 24,
   "id": "3340892e",
   "metadata": {},
   "outputs": [
    {
     "name": "stdout",
     "output_type": "stream",
     "text": [
      "number of texts: 12\n",
      "number of words: 25606\n",
      "      acd006  acd012  acd011  acd001  acd010  acd007  acd005  acd004  acd002  \\\n",
      "000        0       0       0       0       0       0       4       0       0   \n",
      "10         0       0       0       2       0       1       0       0       0   \n",
      "1000       1       0       0       0       0       0       0       0       0   \n",
      "104        0       0       0       0       0       1       0       0       0   \n",
      "109        0       0       1       0       0       0       0       0       0   \n",
      "\n",
      "      acd009  acd008  acd003  \n",
      "000        0       0       0  \n",
      "10         8       0       0  \n",
      "1000       0       0       0  \n",
      "104        0       0       0  \n",
      "109        0       0       0  \n"
     ]
    }
   ],
   "source": [
    "datafolder = join(\"..\", \"data\", \"doyle\", \"\")\n",
    "\n",
    "def create_tdm(datafolder):\n",
    "    # Create idnos and files as lists\n",
    "    files = glob.glob(join(datafolder, \"*.txt\"))\n",
    "    idnos = [os.path.basename(file).split(\".\")[0] for file in files]\n",
    "            \n",
    "    # Define and apply vectorizer\n",
    "    vectorizer = CountVectorizer(input=\"filename\", min_df=1, max_df=12) # min_df, max_df: document frequency\n",
    "    tdm = vectorizer.fit_transform(files)\n",
    "    \n",
    "    # Get vocabulary and transform to TDM / DataFrame\n",
    "    vocab = [item[0] for item in sorted(vectorizer.vocabulary_.items(), key=lambda x: x[1])]\n",
    "    tdm = pd.DataFrame(tdm.toarray().T, columns=idnos, index=vocab)\n",
    "\n",
    "    # Sanity check: inspect results\n",
    "    print(\"number of texts:\", len(files))\n",
    "    print(\"number of words:\", len(vocab))\n",
    "    print(tdm.head())\n",
    "    return tdm\n",
    "\n",
    "tdm = create_tdm(datafolder)\n"
   ]
  },
  {
   "cell_type": "markdown",
   "id": "e2751565",
   "metadata": {},
   "source": [
    "## Metadaten hinzufügen\n",
    "\n",
    "Jetzt haben wir zwar eine Term-Dokument-Matrix, repräsentiert als DataFrame; und wir haben die Spalten und Zeilen auch schon beschriftet. Aber die Kürzel der Dateien sind doch nicht sehr informativ. Es wäre also schön, (a) sie durch die Kurztitel der Romane (oder andere Informationen) zu ersetzen. \n",
    "\n",
    "Wir müssen bedenken, dass die Sortierung der Dokumente in unseren DataFrame und die Sortierung in der Metadatentabelle nicht übereinstimmen müssen. Deswegen sortieren wir beide bevor wir sie verbinden. \n",
    "\n",
    "Weil die Funktion parametrisierbar ist, lassen sich leicht andere Metadaten-Kategorien nutzen."
   ]
  },
  {
   "cell_type": "code",
   "execution_count": 25,
   "id": "fd026506",
   "metadata": {},
   "outputs": [
    {
     "name": "stdout",
     "output_type": "stream",
     "text": [
      "      StudyScarlet  HoundBaskervilles  SignFour  WhiteCompany  Refugees  \\\n",
      "000              0                  0         0             0         4   \n",
      "10               2                  0         0             0         0   \n",
      "1000             0                  0         0             0         0   \n",
      "104              0                  0         0             0         0   \n",
      "109              0                  0         0             0         0   \n",
      "\n",
      "      FirmGirdlestone  MysteryCloomber  RafflesHaw  Parasite  LostWorld  \\\n",
      "000                 0                0           0         0          0   \n",
      "10                  0                1           0         8          0   \n",
      "1000                1                0           0         0          0   \n",
      "104                 0                1           0         0          0   \n",
      "109                 0                0           0         0          0   \n",
      "\n",
      "      ValleyFear  PoisonBelt  \n",
      "000            0           0  \n",
      "10             0           0  \n",
      "1000           0           0  \n",
      "104            0           0  \n",
      "109            1           0  \n"
     ]
    }
   ],
   "source": [
    "metadatafile = join(datafolder, \"metadata.csv\")\n",
    "target = \"title\" # oder: subgenre, year\n",
    "\n",
    "def add_metadatum(tdm, metadatafile, target): \n",
    "    with open(metadatafile, \"r\", encoding=\"utf8\") as infile: \n",
    "        metadata = pd.read_csv(infile)\n",
    "        metadata.sort_values(by=\"idno\", ascending=True, inplace=True)\n",
    "        #print(metadata.head())\n",
    "    metadatum = list(metadata.loc[:,target])\n",
    "    #print(metadatum)\n",
    "    tdm = tdm.reindex(sorted(tdm.columns), axis=1)\n",
    "    tdm.columns = metadatum\n",
    "    print(tdm.head())\n",
    "    return tdm\n",
    "    \n",
    "tdm = add_metadatum(tdm, metadatafile, target)"
   ]
  },
  {
   "cell_type": "markdown",
   "id": "322b3911",
   "metadata": {},
   "source": [
    "## Summen bilden: Dokumentlänge, Worthäufigkeit\n",
    "\n",
    "Zunächst einmal können wir auf einer solchen Term-Dokument-Matrix (repräsentiert als DataFrame) die Dokumentlängen und die Häufigkeiten der Wörter im Korpus ermitteln: durch eine zeilenweise oder spaltenweise Summenbildung. \n",
    "\n",
    "Achtung: Wenn wir beim Aufbau der TDM nicht alle Wörter berücksichtigt haben (bspw. wegen Stoplists, minimaler Wortlänge oder minimaler Dokumenthäufigkeit), dann repräsentieren die Zahlen hier natürlich auch nicht die tatsächliche Länge der vollständigen Dokumente. "
   ]
  },
  {
   "cell_type": "code",
   "execution_count": 26,
   "id": "84f87262",
   "metadata": {},
   "outputs": [
    {
     "name": "stdout",
     "output_type": "stream",
     "text": [
      "<class 'pandas.core.series.Series'> \n",
      " StudyScarlet          41601\n",
      "HoundBaskervilles     56633\n",
      "SignFour              41111\n",
      "WhiteCompany         146083\n",
      "Refugees             118824\n",
      "FirmGirdlestone      132622\n",
      "MysteryCloomber       46505\n",
      "RafflesHaw            36335\n",
      "Parasite              16601\n",
      "LostWorld             72859\n",
      "ValleyFear            55494\n",
      "PoisonBelt            28177\n",
      "dtype: int64\n",
      "<class 'pandas.core.series.Series'> \n",
      "\n",
      " 000            4\n",
      "10            11\n",
      "1000           1\n",
      "104            1\n",
      "109            1\n",
      "              ..\n",
      "zoological    17\n",
      "zoologist      4\n",
      "zoologists     1\n",
      "zoology        9\n",
      "zum            2\n",
      "Length: 25606, dtype: int64\n"
     ]
    }
   ],
   "source": [
    "import numpy as np\n",
    "\n",
    "doclens = np.sum(tdm, axis=0) # 0 = spaltenweise = je Text\n",
    "print(type(doclens),\"\\n\", doclens)\n",
    "\n",
    "wordcounts = np.sum(tdm, axis=1) # 1 = zeilenweise = je Wort\n",
    "print(type(wordcounts), \"\\n\\n\", wordcounts)"
   ]
  },
  {
   "cell_type": "markdown",
   "id": "bdec070a",
   "metadata": {},
   "source": [
    "## Relative Häufigkeiten berechnen\n",
    "\n",
    "Relative Häufigkeiten machen die absoluten Häufigkeiten in Dokumenten unterschiedlicher Länge vergleichbar. Deswegen wird diese Art der \"Normalisierung\" sehr häufig eingesetzt. \n",
    "\n",
    "Wir nehmen die Länge der Dokumente in ihrer Gesamtheit als Grundlage für die Berechnung (siehe oben, `df_min=1`). Wir teilen jede absolute Worthäufigkeit (Zelle) durch die Summe der Worthäufigkeit des relevanten Textes (spaltenweise Summe). \n",
    "\n",
    "Statt Zelle pro Zelle durch den DataFrame zu iterieren, dividieren wir gewissermaßen jede Zeile (als ein Vektor) durch die Liste der Dokumentlänge (auch als ein Vektor). Alle Werte einer Zeile (ein Wert pro Dokument für den relevanten Term) werden also durch unterschiedliche Werte geteilt. Man könnte auch sagen: Wir dividieren die ganze TDM durch einen passenden Vektor in Zeilenlänge. \n",
    "\n",
    "Wir können die Variable `doclens` von oben nachnutzen. Wir fügen die Summe der relativen Häufigkeiten pro Wort als Spalte hinzu, sortieren danach und inspizieren die häufigsten Wörter. \n"
   ]
  },
  {
   "cell_type": "code",
   "execution_count": 27,
   "id": "bb6d41f7",
   "metadata": {},
   "outputs": [
    {
     "name": "stdout",
     "output_type": "stream",
     "text": [
      "      StudyScarlet  HoundBaskervilles  SignFour  WhiteCompany  Refugees  \\\n",
      "the       6.028701           5.855243  5.655421      6.592143  6.541608   \n",
      "and       3.257133           2.874649  2.887305      3.762929  3.553154   \n",
      "of        2.882142           2.802253  2.707305      3.286488  2.821821   \n",
      "to        2.620129           2.486183  2.658656      2.196696  2.276476   \n",
      "it        1.430254           1.783412  1.695410      1.161668  1.361678   \n",
      "in        1.733131           1.608603  1.651626      1.438908  1.549350   \n",
      "that      1.617750           2.020024  1.534869      1.227384  1.262371   \n",
      "he        1.930242           1.622729  1.568923      1.156877  1.283411   \n",
      "was       1.564866           1.417901  1.396220      0.825558  1.207668   \n",
      "you       1.124973           1.472640  1.320814      1.011069  1.327173   \n",
      "\n",
      "      FirmGirdlestone  MysteryCloomber  RafflesHaw  Parasite  LostWorld  \\\n",
      "the          6.395621         5.995054    5.438283  4.168424   6.125530   \n",
      "and          3.077921         3.197506    3.054906  2.927534   2.865809   \n",
      "of           2.764247         2.930868    2.842989  2.602253   3.464225   \n",
      "to           2.604394         2.677131    2.653089  2.855250   2.377194   \n",
      "it           1.478639         1.419202    1.907252  1.951690   1.685447   \n",
      "in           1.679209         1.679389    1.615522  1.361364   1.697800   \n",
      "that         1.435659         1.653586    1.389845  1.807120   1.513883   \n",
      "he           1.556303         1.107408    1.549470  0.493946   0.973112   \n",
      "was          1.373075         1.255779    1.092610  1.222818   1.486433   \n",
      "you          1.210206         1.036448    1.552222  1.373411   0.923702   \n",
      "\n",
      "      ValleyFear  PoisonBelt  \n",
      "the     5.861895    6.253327  \n",
      "and     2.602083    2.757568  \n",
      "of      2.585865    3.080527  \n",
      "to      2.315566    2.395571  \n",
      "it      2.081306    1.955496  \n",
      "in      1.645223    1.884516  \n",
      "that    1.944354    1.593498  \n",
      "he      1.771363    0.851759  \n",
      "was     1.474033    1.160521  \n",
      "you     1.967780    1.036306  \n"
     ]
    }
   ],
   "source": [
    "# Relative Häufigkeiten\n",
    "relfreqs = np.divide(tdm, doclens) * 100 # x100 = Prozent\n",
    "#print(relfreqs.head())\n",
    "\n",
    "# Sanity check: Welche Wörter sind am häufigsten, und wie häufig?\n",
    "relfreqs[\"relfreqsum\"] = np.sum(relfreqs, axis=1)\n",
    "relfreqs.sort_values(by=\"relfreqsum\", inplace=True, ascending=False)\n",
    "relfreqs.drop(\"relfreqsum\", inplace=True, axis=1)\n",
    "print(relfreqs.head(10))"
   ]
  },
  {
   "cell_type": "markdown",
   "id": "51ece9c9",
   "metadata": {},
   "source": [
    "## Z-Scores berechnen\n",
    "\n",
    "Eine weiter gehende Normalisierung von Worthäufigkeiten sind Z-Scores. \n",
    "\n",
    "Hier werden für jede relative Worthäufigkeit weitere Berechnungen vorgenommen: Man subtrahiert den Mittelwert der Häufigkeit des Wortes von der relativen Häufigkeit (= \"Zentrierung\": der neue Mittelwert wird 0 sein); und man dividiert das Ergebnis durch die Standardabweichung der relativen Häufigkeit des Wortes (= Standardisierung: die neue Standardabweichung wird 1 sein). \n",
    "\n",
    "Wir müssen den DF transponieren (rotieren), um die Subtraktion ausführen zu können. Wir transponieren ihn zurück, um die gleiche TDM zu bekommen.\n",
    "\n",
    "Es gibt viele weitere Möglichkeiten, Worthäufigkeiten zu normaliseren, bspw. TF-IDF. "
   ]
  },
  {
   "cell_type": "code",
   "execution_count": 28,
   "id": "30a6b181",
   "metadata": {},
   "outputs": [
    {
     "name": "stdout",
     "output_type": "stream",
     "text": [
      "25606\n",
      "25606\n",
      "     StudyScarlet  HoundBaskervilles  SignFour  WhiteCompany  Refugees  \\\n",
      "the      0.192658          -0.087154 -0.409496      1.101568  1.020048   \n",
      "and      0.593684          -0.608246 -0.568475      2.183112  1.523909   \n",
      "of      -0.061217          -0.377972 -0.754436      1.541985 -0.300389   \n",
      "to       0.581680          -0.123841  0.784607     -1.648622 -1.228407   \n",
      "it      -0.832095           0.450953  0.131234     -1.807884 -1.081237   \n",
      "\n",
      "     FirmGirdlestone  MysteryCloomber  RafflesHaw  Parasite  LostWorld  \\\n",
      "the         0.784550         0.138381   -0.759770 -2.808230   0.348857   \n",
      "and         0.030521         0.406308   -0.041802 -0.442057  -0.636024   \n",
      "of         -0.528662         0.131976   -0.216457 -1.170959   2.246703   \n",
      "to          0.498802         0.881921    0.755287  1.820104  -0.697905   \n",
      "it         -0.656311        -0.872247    0.900870  1.062315   0.095039   \n",
      "\n",
      "     ValleyFear  PoisonBelt  \n",
      "the   -0.076424    0.555011  \n",
      "and   -1.464765   -0.976164  \n",
      "of    -1.235935    0.725364  \n",
      "to    -1.022515   -0.601112  \n",
      "it     1.533220    1.076142  \n",
      "means [2.1371793224034263e-15, -3.7007434154171886e-16, -1.0269562977782698e-15, 0.0, 4.255854927729767e-16, 1.4802973661668753e-16, 3.8626509398416903e-16, -1.4802973661668753e-16, -1.3877787807814457e-16, 1.1102230246251565e-15]\n",
      "stdevs [1.0, 0.9999999999999998, 0.9999999999999998, 1.0, 1.0, 0.9999999999999999, 1.0, 1.0, 1.0, 1.0]\n",
      "max 3.3166247903554007\n",
      "min -2.8082296625440275\n"
     ]
    }
   ],
   "source": [
    "# Mean relative frequency and standard deviations per word\n",
    "meanfreqs = np.mean(relfreqs, axis=1)\n",
    "stdevs = np.std(relfreqs, axis=1)\n",
    "\n",
    "# Sanity checks: len should be vocabulary, not documents\n",
    "print(len(meanfreqs))\n",
    "print(len(stdevs))\n",
    "\n",
    "# Z-Score transformation: DataFrame by Series\n",
    "zscores = np.divide(np.subtract(relfreqs.T, meanfreqs), stdevs).T\n",
    "print(zscores.head())\n",
    "\n",
    "# Sanity checks: \n",
    "# - means should be (close to) 0, zeilenweise; Rundungsfehler\n",
    "# - stdevs should be (close) 1, zeilenweise\n",
    "# - min/max should be around -4,+4 not much more\n",
    "zs_means = np.mean(zscores, axis=1)\n",
    "zs_stdevs = np.std(zscores, axis=1)\n",
    "zs_max = np.max(np.max(zscores, axis=1)) # Erst zeilenweise, dann max davon\n",
    "zs_min = np.min(np.min(zscores, axis=1))\n",
    "print(\"means\", list(zs_means)[0:10])\n",
    "print(\"stdevs\", list(zs_stdevs)[0:10])\n",
    "print(\"max\", zs_max)\n",
    "print(\"min\", zs_min)\n"
   ]
  },
  {
   "cell_type": "markdown",
   "id": "a9e6133f",
   "metadata": {},
   "source": [
    "## Visualisierung von Werten\n",
    "\n",
    "Für einfache Visualisierungen von Ergebnissen auf der Basis eines DataFrames kann man direkt pandas nutzen. \n",
    "\n",
    "Grundlage dafür ist die Methode `.plot()`. \n",
    "\n",
    "Siehe: https://pandas.pydata.org/docs/reference/api/pandas.DataFrame.plot.html\n",
    "\n",
    "Für weitergehende Visualisierungsmöglichkeiten sind Bibliotheken nützlich, die einen DataFrame als Input nutzen können, darunter: Seaborn, Pygal, Matplotlib. "
   ]
  },
  {
   "cell_type": "code",
   "execution_count": 29,
   "id": "4b7c5ab2",
   "metadata": {},
   "outputs": [
    {
     "name": "stdout",
     "output_type": "stream",
     "text": [
      "<class 'pandas.core.series.Series'>\n"
     ]
    },
    {
     "data": {
      "text/plain": [
       "<AxesSubplot:title={'center':'Länge der Dokumente im Korpus'}>"
      ]
     },
     "execution_count": 29,
     "metadata": {},
     "output_type": "execute_result"
    },
    {
     "data": {
      "image/png": "[encoded data removed]",
      "text/plain": [
       "<Figure size 432x288 with 1 Axes>"
      ]
     },
     "metadata": {
      "needs_background": "light"
     },
     "output_type": "display_data"
    }
   ],
   "source": [
    "# Dokumentlängen (plot mit Series)\n",
    "\n",
    "title = \"Länge der Dokumente im Korpus\"\n",
    "doclens = np.sum(tdm, axis=0)\n",
    "print(type(doclens))\n",
    "doclens.plot(kind=\"barh\", title=title)\n",
    "\n"
   ]
  },
  {
   "cell_type": "code",
   "execution_count": 30,
   "id": "b3724dc1",
   "metadata": {},
   "outputs": [
    {
     "data": {
      "text/plain": [
       "Text(0, 0.5, 'Relative Häufigkeit in Prozent')"
      ]
     },
     "execution_count": 30,
     "metadata": {},
     "output_type": "execute_result"
    },
    {
     "data": {
      "image/png": "[encoded data removed]",
      "text/plain": [
       "<Figure size 432x288 with 1 Axes>"
      ]
     },
     "metadata": {
      "needs_background": "light"
     },
     "output_type": "display_data"
    }
   ],
   "source": [
    "# Verteilung der relativen Häufigkeiten einzelner Wörter in den Texten\n",
    "\n",
    "term = \"car\"   # \"moor\", \"crime\", \"car\", \"question\"\n",
    "title = \"Relative Häufigkeiten des Terms: \" + term\n",
    "ylabel = \"Relative Häufigkeit in Prozent\"\n",
    "fig1 = relfreqs.loc[term,:].plot(kind=\"bar\", title=title)\n",
    "fig1.set_ylabel(ylabel)"
   ]
  },
  {
   "cell_type": "code",
   "execution_count": 31,
   "id": "91344aa6",
   "metadata": {},
   "outputs": [
    {
     "data": {
      "text/plain": [
       "Text(0, 0.5, 'Z-Score als Standardabweichung')"
      ]
     },
     "execution_count": 31,
     "metadata": {},
     "output_type": "execute_result"
    },
    {
     "data": {
      "image/png": "[encoded data removed]",
      "text/plain": [
       "<Figure size 432x288 with 1 Axes>"
      ]
     },
     "metadata": {
      "needs_background": "light"
     },
     "output_type": "display_data"
    }
   ],
   "source": [
    "# Verteilung der Z-Scores eines Wortes in den Texten\n",
    "\n",
    "term = \"crime\"   # \"moor\", \"crime\", \"car\", \"question\", \"he\", \"she\"\n",
    "title = \"Z-Scores des Terms: \" + term\n",
    "ylabel = \"Z-Score als Standardabweichung\"\n",
    "\n",
    "fig1 = zscores.loc[term,:].plot(kind=\"bar\", title=title)\n",
    "fig1.set_ylabel(ylabel)"
   ]
  },
  {
   "cell_type": "code",
   "execution_count": null,
   "id": "863b1512",
   "metadata": {},
   "outputs": [],
   "source": []
  }
 ],
 "metadata": {
  "kernelspec": {
   "display_name": "Python 3 (ipykernel)",
   "language": "python",
   "name": "python3"
  },
  "language_info": {
   "codemirror_mode": {
    "name": "ipython",
    "version": 3
   },
   "file_extension": ".py",
   "mimetype": "text/x-python",
   "name": "python",
   "nbconvert_exporter": "python",
   "pygments_lexer": "ipython3",
   "version": "3.9.7"
  }
 },
 "nbformat": 4,
 "nbformat_minor": 5
}
